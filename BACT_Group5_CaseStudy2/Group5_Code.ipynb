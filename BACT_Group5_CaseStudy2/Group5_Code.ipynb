{
 "cells": [
  {
   "cell_type": "code",
   "execution_count": 28,
   "metadata": {},
   "outputs": [],
   "source": [
    "import pandas as pd\n",
    "from datetime import datetime\n",
    "import calendar"
   ]
  },
  {
   "cell_type": "code",
   "execution_count": 29,
   "metadata": {},
   "outputs": [],
   "source": [
    "df = pd.read_csv(\"https://raw.githubusercontent.com/NUS-BACT/datasets/master/hdb-resale-flat-prices.csv\")"
   ]
  },
  {
   "cell_type": "markdown",
   "metadata": {},
   "source": [
    "# Data Cleaning"
   ]
  },
  {
   "cell_type": "code",
   "execution_count": 30,
   "metadata": {},
   "outputs": [
    {
     "data": {
      "text/plain": [
       "month                   object\n",
       "town                    object\n",
       "flat_type               object\n",
       "block                   object\n",
       "street_name             object\n",
       "storey_range            object\n",
       "floor_area_sqm         float64\n",
       "flat_model              object\n",
       "lease_commence_date      int64\n",
       "remaining_lease         object\n",
       "resale_price           float64\n",
       "dtype: object"
      ]
     },
     "execution_count": 30,
     "metadata": {},
     "output_type": "execute_result"
    }
   ],
   "source": [
    "df.dtypes"
   ]
  },
  {
   "cell_type": "markdown",
   "metadata": {},
   "source": [
    "### Splitting \"month\" column to \"month\" and \"year\""
   ]
  },
  {
   "cell_type": "code",
   "execution_count": 31,
   "metadata": {},
   "outputs": [],
   "source": [
    "# Rename \"month\" to \"year_month\"\n",
    "df.rename(columns={'month': 'year_month'}, inplace=True)\n",
    "\n",
    "# Split \"year_month\" to \"year\" and \"month\"\n",
    "df[[\"year\",\"month\"]] = df[\"year_month\"].str.split(\"-\",expand=True)\n",
    "\n",
    "# Change \"month\" from str to int\n",
    "df['month']= df['month'].astype(\"int\")\n",
    "\n",
    "# Change \"month\" values from numericals to abb month strings\n",
    "df['month'] = df['month'].apply(lambda x: calendar.month_abbr[x])"
   ]
  },
  {
   "cell_type": "markdown",
   "metadata": {},
   "source": [
    "### Transform \"remaining_lease\" to \"remaining_lease_clean\" column from str to int"
   ]
  },
  {
   "cell_type": "code",
   "execution_count": 32,
   "metadata": {},
   "outputs": [
    {
     "data": {
      "text/html": [
       "<div>\n",
       "<style scoped>\n",
       "    .dataframe tbody tr th:only-of-type {\n",
       "        vertical-align: middle;\n",
       "    }\n",
       "\n",
       "    .dataframe tbody tr th {\n",
       "        vertical-align: top;\n",
       "    }\n",
       "\n",
       "    .dataframe thead th {\n",
       "        text-align: right;\n",
       "    }\n",
       "</style>\n",
       "<table border=\"1\" class=\"dataframe\">\n",
       "  <thead>\n",
       "    <tr style=\"text-align: right;\">\n",
       "      <th></th>\n",
       "      <th>town</th>\n",
       "      <th>flat_type</th>\n",
       "      <th>storey_range</th>\n",
       "      <th>floor_area_sqm</th>\n",
       "      <th>flat_model</th>\n",
       "      <th>resale_price</th>\n",
       "      <th>remaining_lease_clean</th>\n",
       "    </tr>\n",
       "  </thead>\n",
       "  <tbody>\n",
       "    <tr>\n",
       "      <th>0</th>\n",
       "      <td>ANG MO KIO</td>\n",
       "      <td>2 ROOM</td>\n",
       "      <td>10 TO 12</td>\n",
       "      <td>44.0</td>\n",
       "      <td>Improved</td>\n",
       "      <td>232000.0</td>\n",
       "      <td>61.3</td>\n",
       "    </tr>\n",
       "    <tr>\n",
       "      <th>1</th>\n",
       "      <td>ANG MO KIO</td>\n",
       "      <td>3 ROOM</td>\n",
       "      <td>01 TO 03</td>\n",
       "      <td>67.0</td>\n",
       "      <td>New Generation</td>\n",
       "      <td>250000.0</td>\n",
       "      <td>60.6</td>\n",
       "    </tr>\n",
       "    <tr>\n",
       "      <th>2</th>\n",
       "      <td>ANG MO KIO</td>\n",
       "      <td>3 ROOM</td>\n",
       "      <td>01 TO 03</td>\n",
       "      <td>67.0</td>\n",
       "      <td>New Generation</td>\n",
       "      <td>262000.0</td>\n",
       "      <td>62.4</td>\n",
       "    </tr>\n",
       "    <tr>\n",
       "      <th>3</th>\n",
       "      <td>ANG MO KIO</td>\n",
       "      <td>3 ROOM</td>\n",
       "      <td>04 TO 06</td>\n",
       "      <td>68.0</td>\n",
       "      <td>New Generation</td>\n",
       "      <td>265000.0</td>\n",
       "      <td>62.1</td>\n",
       "    </tr>\n",
       "    <tr>\n",
       "      <th>4</th>\n",
       "      <td>ANG MO KIO</td>\n",
       "      <td>3 ROOM</td>\n",
       "      <td>01 TO 03</td>\n",
       "      <td>67.0</td>\n",
       "      <td>New Generation</td>\n",
       "      <td>265000.0</td>\n",
       "      <td>62.4</td>\n",
       "    </tr>\n",
       "  </tbody>\n",
       "</table>\n",
       "</div>"
      ],
      "text/plain": [
       "         town flat_type storey_range  floor_area_sqm      flat_model  \\\n",
       "0  ANG MO KIO    2 ROOM     10 TO 12            44.0        Improved   \n",
       "1  ANG MO KIO    3 ROOM     01 TO 03            67.0  New Generation   \n",
       "2  ANG MO KIO    3 ROOM     01 TO 03            67.0  New Generation   \n",
       "3  ANG MO KIO    3 ROOM     04 TO 06            68.0  New Generation   \n",
       "4  ANG MO KIO    3 ROOM     01 TO 03            67.0  New Generation   \n",
       "\n",
       "   resale_price  remaining_lease_clean  \n",
       "0      232000.0                   61.3  \n",
       "1      250000.0                   60.6  \n",
       "2      262000.0                   62.4  \n",
       "3      265000.0                   62.1  \n",
       "4      265000.0                   62.4  "
      ]
     },
     "execution_count": 32,
     "metadata": {},
     "output_type": "execute_result"
    }
   ],
   "source": [
    "# Split 'remaining_lease' to 'remaining_year' and 'remaining_month' \n",
    "df[['remaining_year','remaining_month']] = df['remaining_lease'].str.split(\" years\", expand=True)\n",
    "\n",
    "# Clean up 'remaining_month' column from blanks and unnecessary strings\n",
    "df['remaining_month'] = df['remaining_month'].replace({' ':'','months':'', 'month':''}, regex=True)\n",
    "\n",
    "# Replace blank with 0\n",
    "df['remaining_month'] = df['remaining_month'].replace({'':'0'}, regex=True)\n",
    "\n",
    "# Transfrom 'remaining_month' to int\n",
    "df[['remaining_year','remaining_month']] = df[['remaining_year','remaining_month']].astype('int')\n",
    "\n",
    "# Divide column by 12 \n",
    "df['remaining_month'] = df['remaining_month'].apply(lambda x: round(x/12,1))\n",
    "\n",
    "# Add 'remaining_year' and 'remaining_month' together\n",
    "df['remaining_lease_clean'] = df['remaining_year'] + df['remaining_month']\n",
    "\n",
    "# Drop unnecessary columns\n",
    "df = df.drop(columns=['remaining_year', 'remaining_month', 'remaining_lease', 'year_month', 'street_name', 'block', 'lease_commence_date', 'year', 'month'])\n",
    "\n",
    "# ls = []\n",
    "# for type in df['flat_type']:\n",
    "#     if type not in list:\n",
    "#         ls.append(type)\n",
    "# print(ls)\n",
    "\n",
    "df.head()"
   ]
  },
  {
   "cell_type": "code",
   "execution_count": 33,
   "metadata": {},
   "outputs": [],
   "source": [
    "# imports\n",
    "\n",
    "import numpy as np\n",
    "from sklearn.preprocessing import OneHotEncoder\n",
    "from sklearn.compose import ColumnTransformer\n",
    "from sklearn.model_selection import train_test_split, cross_validate, GridSearchCV\n",
    "from sklearn.linear_model import LinearRegression\n",
    "from sklearn.tree import DecisionTreeRegressor\n",
    "from sklearn.ensemble import RandomForestRegressor\n",
    "from sklearn.pipeline import Pipeline\n",
    "from sklearn import tree\n",
    "from sklearn.metrics import r2_score, mean_absolute_error, mean_squared_error\n",
    "\n",
    "import statsmodels.api as sm\n",
    "import matplotlib.pyplot as plt"
   ]
  },
  {
   "cell_type": "markdown",
   "metadata": {},
   "source": [
    "Train-Test Split"
   ]
  },
  {
   "cell_type": "code",
   "execution_count": 34,
   "metadata": {},
   "outputs": [],
   "source": [
    "y = df[\"resale_price\"]\n",
    "x = df.drop(columns=[\"resale_price\"])\n",
    "x_train, x_test, y_train, y_test = train_test_split(x, y, test_size = 0.2, random_state=42)\n"
   ]
  },
  {
   "cell_type": "markdown",
   "metadata": {},
   "source": [
    "Feature encoding"
   ]
  },
  {
   "cell_type": "code",
   "execution_count": 35,
   "metadata": {},
   "outputs": [
    {
     "name": "stdout",
     "output_type": "stream",
     "text": [
      "categorical variables are  ['town', 'flat_type', 'storey_range', 'flat_model']\n"
     ]
    }
   ],
   "source": [
    "categorical_va = []\n",
    "\n",
    "for col in df.columns:\n",
    "    if df[col].dtype == \"object\":\n",
    "        categorical_va.append(col)\n",
    "\n",
    "print(\"categorical variables are \", categorical_va)\n",
    "\n",
    "enc_lr = OneHotEncoder(drop = \"first\", sparse = False, handle_unknown=\"ignore\")\n",
    "transformer_lr = ColumnTransformer([(\"categorical\", enc_lr, categorical_va)], remainder=\"passthrough\")\n",
    "transformer_lr.fit(x_train)\n",
    "\n",
    "x_train_encoded_lr = pd.DataFrame(transformer_lr.transform(x_train), columns = transformer_lr.get_feature_names_out())\n",
    "x_test_encoded_lr = pd.DataFrame(transformer_lr.transform(x_test), columns = transformer_lr.get_feature_names_out())\n"
   ]
  },
  {
   "cell_type": "markdown",
   "metadata": {},
   "source": [
    "Linear regression"
   ]
  },
  {
   "cell_type": "code",
   "execution_count": 36,
   "metadata": {},
   "outputs": [
    {
     "name": "stdout",
     "output_type": "stream",
     "text": [
      "R2: 0.81594322461061\n",
      "MSE: 4975349908.485722\n",
      "RMSE: 70536.16029020662\n",
      "MAE: 55803.198585415215\n"
     ]
    }
   ],
   "source": [
    "lr = LinearRegression()\n",
    "lr.fit(x_train_encoded_lr, y_train)\n",
    "\n",
    "lr.predict(x_train_encoded_lr)\n",
    "\n",
    "def get_results(model, x, y):\n",
    "    y_pred = model.predict(x)\n",
    "    r2 = r2_score(y, y_pred)\n",
    "    mse = mean_squared_error(y, y_pred)\n",
    "    mae = mean_absolute_error(y, y_pred)\n",
    "\n",
    "    print(f\"R2: {r2}\")\n",
    "    print(f\"MSE: {mse}\")\n",
    "    print(f\"RMSE: {mse**0.5}\")\n",
    "    print(f\"MAE: {mae}\")\n",
    "\n",
    "get_results(lr, x_test_encoded_lr, y_test)"
   ]
  },
  {
   "cell_type": "code",
   "execution_count": 37,
   "metadata": {},
   "outputs": [
    {
     "name": "stdout",
     "output_type": "stream",
     "text": [
      "                            OLS Regression Results                            \n",
      "==============================================================================\n",
      "Dep. Variable:           resale_price   R-squared:                       0.816\n",
      "Model:                            OLS   Adj. R-squared:                  0.815\n",
      "Method:                 Least Squares   F-statistic:                     7047.\n",
      "Date:                Wed, 21 Sep 2022   Prob (F-statistic):               0.00\n",
      "Time:                        20:52:42   Log-Likelihood:            -1.3639e+06\n",
      "No. Observations:              108454   AIC:                         2.728e+06\n",
      "Df Residuals:                  108385   BIC:                         2.729e+06\n",
      "Df Model:                          68                                         \n",
      "Covariance Type:            nonrobust                                         \n",
      "==================================================================================================================\n",
      "                                                     coef    std err          t      P>|t|      [0.025      0.975]\n",
      "------------------------------------------------------------------------------------------------------------------\n",
      "const                                          -2.408e+05    1.8e+04    -13.397      0.000   -2.76e+05   -2.06e+05\n",
      "categorical__town_BEDOK                        -1.087e+04   1400.964     -7.758      0.000   -1.36e+04   -8122.971\n",
      "categorical__town_BISHAN                        9.718e+04   1939.806     50.098      0.000    9.34e+04    1.01e+05\n",
      "categorical__town_BUKIT BATOK                  -8.214e+04   1608.830    -51.055      0.000   -8.53e+04    -7.9e+04\n",
      "categorical__town_BUKIT MERAH                   1.102e+05   1589.331     69.313      0.000    1.07e+05    1.13e+05\n",
      "categorical__town_BUKIT PANJANG                 -1.29e+05   1615.440    -79.850      0.000   -1.32e+05   -1.26e+05\n",
      "categorical__town_BUKIT TIMAH                   1.916e+05   4373.836     43.816      0.000    1.83e+05       2e+05\n",
      "categorical__town_CENTRAL AREA                  1.083e+05   3126.841     34.642      0.000    1.02e+05    1.14e+05\n",
      "categorical__town_CHOA CHU KANG                -1.591e+05   1555.749   -102.281      0.000   -1.62e+05   -1.56e+05\n",
      "categorical__town_CLEMENTI                      3.512e+04   1750.697     20.060      0.000    3.17e+04    3.86e+04\n",
      "categorical__town_GEYLANG                       4.657e+04   1787.913     26.046      0.000    4.31e+04    5.01e+04\n",
      "categorical__town_HOUGANG                      -7.526e+04   1487.316    -50.603      0.000   -7.82e+04   -7.23e+04\n",
      "categorical__town_JURONG EAST                  -7.245e+04   1822.654    -39.749      0.000    -7.6e+04   -6.89e+04\n",
      "categorical__town_JURONG WEST                  -1.343e+05   1430.539    -93.879      0.000   -1.37e+05   -1.31e+05\n",
      "categorical__town_KALLANG/WHAMPOA               6.231e+04   1694.426     36.774      0.000     5.9e+04    6.56e+04\n",
      "categorical__town_MARINE PARADE                 1.518e+05   2998.137     50.618      0.000    1.46e+05    1.58e+05\n",
      "categorical__town_PASIR RIS                    -9.284e+04   1714.579    -54.150      0.000   -9.62e+04   -8.95e+04\n",
      "categorical__town_PUNGGOL                      -1.181e+05   1526.581    -77.369      0.000   -1.21e+05   -1.15e+05\n",
      "categorical__town_QUEENSTOWN                    1.162e+05   1769.044     65.662      0.000    1.13e+05     1.2e+05\n",
      "categorical__town_SEMBAWANG                    -1.803e+05   1864.162    -96.728      0.000   -1.84e+05   -1.77e+05\n",
      "categorical__town_SENGKANG                     -1.359e+05   1447.995    -93.853      0.000   -1.39e+05   -1.33e+05\n",
      "categorical__town_SERANGOON                     2495.8533   1917.049      1.302      0.193   -1261.535    6253.242\n",
      "categorical__town_TAMPINES                     -4.231e+04   1426.089    -29.666      0.000   -4.51e+04   -3.95e+04\n",
      "categorical__town_TOA PAYOH                     4.963e+04   1677.429     29.589      0.000    4.63e+04    5.29e+04\n",
      "categorical__town_WOODLANDS                    -1.584e+05   1435.112   -110.396      0.000   -1.61e+05   -1.56e+05\n",
      "categorical__town_YISHUN                       -1.086e+05   1405.881    -77.256      0.000   -1.11e+05   -1.06e+05\n",
      "categorical__flat_type_2 ROOM                   3.741e+04   1.05e+04      3.573      0.000    1.69e+04    5.79e+04\n",
      "categorical__flat_type_3 ROOM                   7.083e+04   1.04e+04      6.809      0.000    5.04e+04    9.12e+04\n",
      "categorical__flat_type_4 ROOM                   1.005e+05   1.06e+04      9.475      0.000    7.97e+04    1.21e+05\n",
      "categorical__flat_type_5 ROOM                   1.386e+05   1.09e+04     12.695      0.000    1.17e+05     1.6e+05\n",
      "categorical__flat_type_EXECUTIVE                1.338e+05   1.13e+04     11.799      0.000    1.12e+05    1.56e+05\n",
      "categorical__flat_type_MULTI-GENERATION         1.204e+05   1.05e+04     11.415      0.000    9.97e+04    1.41e+05\n",
      "categorical__storey_range_04 TO 06              1.696e+04    673.586     25.180      0.000    1.56e+04    1.83e+04\n",
      "categorical__storey_range_07 TO 09              3.062e+04    690.402     44.352      0.000    2.93e+04     3.2e+04\n",
      "categorical__storey_range_10 TO 12               3.87e+04    709.172     54.567      0.000    3.73e+04    4.01e+04\n",
      "categorical__storey_range_13 TO 15              4.919e+04    879.310     55.937      0.000    4.75e+04    5.09e+04\n",
      "categorical__storey_range_16 TO 18              6.583e+04   1155.751     56.957      0.000    6.36e+04    6.81e+04\n",
      "categorical__storey_range_19 TO 21               9.54e+04   1652.167     57.743      0.000    9.22e+04    9.86e+04\n",
      "categorical__storey_range_22 TO 24              1.034e+05   1918.250     53.926      0.000    9.97e+04    1.07e+05\n",
      "categorical__storey_range_25 TO 27               1.21e+05   2468.886     49.026      0.000    1.16e+05    1.26e+05\n",
      "categorical__storey_range_28 TO 30              1.529e+05   3093.845     49.424      0.000    1.47e+05    1.59e+05\n",
      "categorical__storey_range_31 TO 33              1.669e+05   4097.628     40.738      0.000    1.59e+05    1.75e+05\n",
      "categorical__storey_range_34 TO 36              1.789e+05   4293.254     41.679      0.000    1.71e+05    1.87e+05\n",
      "categorical__storey_range_37 TO 39              1.788e+05   4535.256     39.419      0.000     1.7e+05    1.88e+05\n",
      "categorical__storey_range_40 TO 42              2.055e+05   6142.955     33.459      0.000    1.93e+05    2.18e+05\n",
      "categorical__storey_range_43 TO 45              2.199e+05   1.28e+04     17.223      0.000    1.95e+05    2.45e+05\n",
      "categorical__storey_range_46 TO 48              2.085e+05    1.4e+04     14.925      0.000    1.81e+05    2.36e+05\n",
      "categorical__storey_range_49 TO 51              2.218e+05   2.16e+04     10.275      0.000    1.79e+05    2.64e+05\n",
      "categorical__flat_model_3Gen                    1.054e+05   4.29e+04      2.455      0.014    2.13e+04     1.9e+05\n",
      "categorical__flat_model_Adjoined flat            2.51e+04   1.53e+04      1.639      0.101   -4919.762    5.51e+04\n",
      "categorical__flat_model_Apartment               1.361e+04   1.46e+04      0.929      0.353   -1.51e+04    4.23e+04\n",
      "categorical__flat_model_DBSS                    9.101e+04   1.45e+04      6.271      0.000    6.26e+04    1.19e+05\n",
      "categorical__flat_model_Improved               -4.746e+04   1.44e+04     -3.288      0.001   -7.58e+04   -1.92e+04\n",
      "categorical__flat_model_Improved-Maisonette     1.315e+05   2.27e+04      5.787      0.000     8.7e+04    1.76e+05\n",
      "categorical__flat_model_Maisonette              5.211e+04   1.47e+04      3.553      0.000    2.34e+04    8.09e+04\n",
      "categorical__flat_model_Model A                -3.401e+04   1.44e+04     -2.359      0.018   -6.23e+04   -5754.593\n",
      "categorical__flat_model_Model A-Maisonette      8.356e+04   1.53e+04      5.448      0.000    5.35e+04    1.14e+05\n",
      "categorical__flat_model_Model A2               -3.752e+04   1.46e+04     -2.577      0.010   -6.61e+04   -8980.551\n",
      "categorical__flat_model_Multi Generation        1.204e+05   1.05e+04     11.415      0.000    9.97e+04    1.41e+05\n",
      "categorical__flat_model_New Generation         -2.696e+04   1.44e+04     -1.866      0.062   -5.53e+04    1354.142\n",
      "categorical__flat_model_Premium Apartment      -2.069e+04   1.44e+04     -1.434      0.152    -4.9e+04    7599.308\n",
      "categorical__flat_model_Premium Apartment Loft  9.438e+04   1.67e+04      5.650      0.000    6.16e+04    1.27e+05\n",
      "categorical__flat_model_Premium Maisonette      7.514e+04   2.66e+04      2.828      0.005    2.31e+04    1.27e+05\n",
      "categorical__flat_model_Simplified             -2.683e+04   1.45e+04     -1.853      0.064   -5.52e+04    1543.837\n",
      "categorical__flat_model_Standard               -4.439e+04   1.45e+04     -3.063      0.002   -7.28e+04    -1.6e+04\n",
      "categorical__flat_model_Terrace                 3.384e+05   1.71e+04     19.819      0.000    3.05e+05    3.72e+05\n",
      "categorical__flat_model_Type S1                 1.547e+05   1.57e+04      9.858      0.000    1.24e+05    1.85e+05\n",
      "categorical__flat_model_Type S2                 1.942e+05   1.62e+04     11.967      0.000    1.62e+05    2.26e+05\n",
      "remainder__floor_area_sqm                       3309.8357     39.978     82.791      0.000    3231.479    3388.192\n",
      "remainder__remaining_lease_clean                4540.0588     28.457    159.542      0.000    4484.284    4595.834\n",
      "==============================================================================\n",
      "Omnibus:                     5706.228   Durbin-Watson:                   1.999\n",
      "Prob(Omnibus):                  0.000   Jarque-Bera (JB):             7085.471\n",
      "Skew:                           0.539   Prob(JB):                         0.00\n",
      "Kurtosis:                       3.637   Cond. No.                     1.02e+16\n",
      "==============================================================================\n",
      "\n",
      "Notes:\n",
      "[1] Standard Errors assume that the covariance matrix of the errors is correctly specified.\n",
      "[2] The smallest eigenvalue is 1.64e-23. This might indicate that there are\n",
      "strong multicollinearity problems or that the design matrix is singular.\n"
     ]
    }
   ],
   "source": [
    "ols = sm.OLS(y_train.reset_index(drop=True), sm.add_constant(x_train_encoded_lr))\n",
    "ols_res = ols.fit()\n",
    "print(ols_res.summary())"
   ]
  },
  {
   "cell_type": "markdown",
   "metadata": {},
   "source": [
    "Decision tree"
   ]
  },
  {
   "cell_type": "code",
   "execution_count": 13,
   "metadata": {},
   "outputs": [
    {
     "name": "stdout",
     "output_type": "stream",
     "text": [
      "R2: 0.9235168758237349\n",
      "MSE: 2067461543.1354465\n",
      "RMSE: 45469.347291724414\n",
      "MAE: 31066.175345683307\n"
     ]
    }
   ],
   "source": [
    "enc = OneHotEncoder(sparse = False, handle_unknown=\"ignore\")\n",
    "transformer_tree = ColumnTransformer([\n",
    "    (\"categorical\", enc, categorical_va)\n",
    "], remainder= \"passthrough\")\n",
    "\n",
    "transformer_tree.fit(x_train)\n",
    "\n",
    "x_train_encoded_tree = pd.DataFrame(transformer_tree.transform(x_train), columns = transformer_tree.get_feature_names_out())\n",
    "x_test_encoded_tree = pd.DataFrame(transformer_tree.transform(x_test), columns = transformer_tree.get_feature_names_out())\n",
    "\n",
    "dt = DecisionTreeRegressor(random_state = 0)\n",
    "dt.fit(x_train_encoded_tree, y_train)\n",
    "\n",
    "get_results(dt, x_test_encoded_tree, y_test)\n"
   ]
  },
  {
   "cell_type": "code",
   "execution_count": 17,
   "metadata": {},
   "outputs": [],
   "source": [
    "\n",
    "\n",
    "def plot_tree(model, x):\n",
    "    fig = plt.figure(figsize=(25, 20))\n",
    "    tree.plot_tree(model, feature_names=x.columns,\n",
    "    class_names = ['0', '1'], filled = True, proportion=True)\n",
    "def plot_importance(model, x):\n",
    "    importances = pd.Series(data=model.feature_importances_, index = list(x.columns))\n",
    "    importances_sorted = importances.sort_values()\n",
    "    importances_sorted = importances_sorted[-10:]\n",
    "    plt.figure(figsize = (10, 6))\n",
    "    importances_sorted.plot(kind = 'barh', color = 'blue')\n",
    "    plt.title('Top 10 Feature Importance')\n",
    "    plt.xlabel(\"Importance\")\n",
    "    plt.show()\n",
    "\n"
   ]
  },
  {
   "cell_type": "code",
   "execution_count": 14,
   "metadata": {},
   "outputs": [
    {
     "ename": "KeyboardInterrupt",
     "evalue": "",
     "output_type": "error",
     "traceback": [
      "\u001b[0;31m---------------------------------------------------------------------------\u001b[0m",
      "\u001b[0;31mKeyboardInterrupt\u001b[0m                         Traceback (most recent call last)",
      "Cell \u001b[0;32mIn [14], line 1\u001b[0m\n\u001b[0;32m----> 1\u001b[0m \u001b[43mplot_tree\u001b[49m\u001b[43m(\u001b[49m\u001b[43mdt\u001b[49m\u001b[43m,\u001b[49m\u001b[43m \u001b[49m\u001b[43mx_train_encoded_tree\u001b[49m\u001b[43m)\u001b[49m\n",
      "Cell \u001b[0;32mIn [13], line 3\u001b[0m, in \u001b[0;36mplot_tree\u001b[0;34m(model, x)\u001b[0m\n\u001b[1;32m      1\u001b[0m \u001b[38;5;28;01mdef\u001b[39;00m \u001b[38;5;21mplot_tree\u001b[39m(model, x):\n\u001b[1;32m      2\u001b[0m     fig \u001b[38;5;241m=\u001b[39m plt\u001b[38;5;241m.\u001b[39mfigure(figsize\u001b[38;5;241m=\u001b[39m(\u001b[38;5;241m25\u001b[39m, \u001b[38;5;241m20\u001b[39m))\n\u001b[0;32m----> 3\u001b[0m     \u001b[43mtree\u001b[49m\u001b[38;5;241;43m.\u001b[39;49m\u001b[43mplot_tree\u001b[49m\u001b[43m(\u001b[49m\u001b[43mmodel\u001b[49m\u001b[43m,\u001b[49m\u001b[43m \u001b[49m\u001b[43mfeature_names\u001b[49m\u001b[38;5;241;43m=\u001b[39;49m\u001b[43mx\u001b[49m\u001b[38;5;241;43m.\u001b[39;49m\u001b[43mcolumns\u001b[49m\u001b[43m,\u001b[49m\n\u001b[1;32m      4\u001b[0m \u001b[43m    \u001b[49m\u001b[43mclass_names\u001b[49m\u001b[43m \u001b[49m\u001b[38;5;241;43m=\u001b[39;49m\u001b[43m \u001b[49m\u001b[43m[\u001b[49m\u001b[38;5;124;43m'\u001b[39;49m\u001b[38;5;124;43m0\u001b[39;49m\u001b[38;5;124;43m'\u001b[39;49m\u001b[43m,\u001b[49m\u001b[43m \u001b[49m\u001b[38;5;124;43m'\u001b[39;49m\u001b[38;5;124;43m1\u001b[39;49m\u001b[38;5;124;43m'\u001b[39;49m\u001b[43m]\u001b[49m\u001b[43m,\u001b[49m\u001b[43m \u001b[49m\u001b[43mfilled\u001b[49m\u001b[43m \u001b[49m\u001b[38;5;241;43m=\u001b[39;49m\u001b[43m \u001b[49m\u001b[38;5;28;43;01mTrue\u001b[39;49;00m\u001b[43m,\u001b[49m\u001b[43m \u001b[49m\u001b[43mproportion\u001b[49m\u001b[38;5;241;43m=\u001b[39;49m\u001b[38;5;28;43;01mTrue\u001b[39;49;00m\u001b[43m)\u001b[49m\n",
      "File \u001b[0;32m/opt/homebrew/lib/python3.10/site-packages/sklearn/tree/_export.py:195\u001b[0m, in \u001b[0;36mplot_tree\u001b[0;34m(decision_tree, max_depth, feature_names, class_names, label, filled, impurity, node_ids, proportion, rounded, precision, ax, fontsize)\u001b[0m\n\u001b[1;32m    180\u001b[0m check_is_fitted(decision_tree)\n\u001b[1;32m    182\u001b[0m exporter \u001b[39m=\u001b[39m _MPLTreeExporter(\n\u001b[1;32m    183\u001b[0m     max_depth\u001b[39m=\u001b[39mmax_depth,\n\u001b[1;32m    184\u001b[0m     feature_names\u001b[39m=\u001b[39mfeature_names,\n\u001b[0;32m   (...)\u001b[0m\n\u001b[1;32m    193\u001b[0m     fontsize\u001b[39m=\u001b[39mfontsize,\n\u001b[1;32m    194\u001b[0m )\n\u001b[0;32m--> 195\u001b[0m \u001b[39mreturn\u001b[39;00m exporter\u001b[39m.\u001b[39;49mexport(decision_tree, ax\u001b[39m=\u001b[39;49max)\n",
      "File \u001b[0;32m/opt/homebrew/lib/python3.10/site-packages/sklearn/tree/_export.py:677\u001b[0m, in \u001b[0;36m_MPLTreeExporter.export\u001b[0;34m(self, decision_tree, ax)\u001b[0m\n\u001b[1;32m    674\u001b[0m renderer \u001b[39m=\u001b[39m ax\u001b[39m.\u001b[39mfigure\u001b[39m.\u001b[39mcanvas\u001b[39m.\u001b[39mget_renderer()\n\u001b[1;32m    676\u001b[0m \u001b[39mfor\u001b[39;00m ann \u001b[39min\u001b[39;00m anns:\n\u001b[0;32m--> 677\u001b[0m     ann\u001b[39m.\u001b[39;49mupdate_bbox_position_size(renderer)\n\u001b[1;32m    679\u001b[0m \u001b[39mif\u001b[39;00m \u001b[39mself\u001b[39m\u001b[39m.\u001b[39mfontsize \u001b[39mis\u001b[39;00m \u001b[39mNone\u001b[39;00m:\n\u001b[1;32m    680\u001b[0m     \u001b[39m# get figure to data transform\u001b[39;00m\n\u001b[1;32m    681\u001b[0m     \u001b[39m# adjust fontsize to avoid overlap\u001b[39;00m\n\u001b[1;32m    682\u001b[0m     \u001b[39m# get max box width and height\u001b[39;00m\n\u001b[1;32m    683\u001b[0m     extents \u001b[39m=\u001b[39m [ann\u001b[39m.\u001b[39mget_bbox_patch()\u001b[39m.\u001b[39mget_window_extent() \u001b[39mfor\u001b[39;00m ann \u001b[39min\u001b[39;00m anns]\n",
      "File \u001b[0;32m/opt/homebrew/lib/python3.10/site-packages/matplotlib/text.py:511\u001b[0m, in \u001b[0;36mText.update_bbox_position_size\u001b[0;34m(self, renderer)\u001b[0m\n\u001b[1;32m    508\u001b[0m posy \u001b[39m=\u001b[39m \u001b[39mfloat\u001b[39m(\u001b[39mself\u001b[39m\u001b[39m.\u001b[39mconvert_yunits(\u001b[39mself\u001b[39m\u001b[39m.\u001b[39m_y))\n\u001b[1;32m    509\u001b[0m posx, posy \u001b[39m=\u001b[39m \u001b[39mself\u001b[39m\u001b[39m.\u001b[39mget_transform()\u001b[39m.\u001b[39mtransform((posx, posy))\n\u001b[0;32m--> 511\u001b[0m x_box, y_box, w_box, h_box \u001b[39m=\u001b[39m _get_textbox(\u001b[39mself\u001b[39;49m, renderer)\n\u001b[1;32m    512\u001b[0m \u001b[39mself\u001b[39m\u001b[39m.\u001b[39m_bbox_patch\u001b[39m.\u001b[39mset_bounds(\u001b[39m0.\u001b[39m, \u001b[39m0.\u001b[39m, w_box, h_box)\n\u001b[1;32m    513\u001b[0m \u001b[39mself\u001b[39m\u001b[39m.\u001b[39m_bbox_patch\u001b[39m.\u001b[39mset_transform(\n\u001b[1;32m    514\u001b[0m     Affine2D()\n\u001b[1;32m    515\u001b[0m     \u001b[39m.\u001b[39mrotate_deg(\u001b[39mself\u001b[39m\u001b[39m.\u001b[39mget_rotation())\n\u001b[1;32m    516\u001b[0m     \u001b[39m.\u001b[39mtranslate(posx \u001b[39m+\u001b[39m x_box, posy \u001b[39m+\u001b[39m y_box))\n",
      "File \u001b[0;32m/opt/homebrew/lib/python3.10/site-packages/matplotlib/text.py:73\u001b[0m, in \u001b[0;36m_get_textbox\u001b[0;34m(text, renderer)\u001b[0m\n\u001b[1;32m     70\u001b[0m theta \u001b[39m=\u001b[39m np\u001b[39m.\u001b[39mdeg2rad(text\u001b[39m.\u001b[39mget_rotation())\n\u001b[1;32m     71\u001b[0m tr \u001b[39m=\u001b[39m Affine2D()\u001b[39m.\u001b[39mrotate(\u001b[39m-\u001b[39mtheta)\n\u001b[0;32m---> 73\u001b[0m _, parts, d \u001b[39m=\u001b[39m text\u001b[39m.\u001b[39;49m_get_layout(renderer)\n\u001b[1;32m     75\u001b[0m \u001b[39mfor\u001b[39;00m t, wh, x, y \u001b[39min\u001b[39;00m parts:\n\u001b[1;32m     76\u001b[0m     w, h \u001b[39m=\u001b[39m wh\n",
      "File \u001b[0;32m/opt/homebrew/lib/python3.10/site-packages/matplotlib/text.py:322\u001b[0m, in \u001b[0;36mText._get_layout\u001b[0;34m(self, renderer)\u001b[0m\n\u001b[1;32m    320\u001b[0m clean_line, ismath \u001b[39m=\u001b[39m \u001b[39mself\u001b[39m\u001b[39m.\u001b[39m_preprocess_math(line)\n\u001b[1;32m    321\u001b[0m \u001b[39mif\u001b[39;00m clean_line:\n\u001b[0;32m--> 322\u001b[0m     w, h, d \u001b[39m=\u001b[39m _get_text_metrics_with_cache(\n\u001b[1;32m    323\u001b[0m         renderer, clean_line, \u001b[39mself\u001b[39;49m\u001b[39m.\u001b[39;49m_fontproperties,\n\u001b[1;32m    324\u001b[0m         ismath\u001b[39m=\u001b[39;49mismath, dpi\u001b[39m=\u001b[39;49m\u001b[39mself\u001b[39;49m\u001b[39m.\u001b[39;49mfigure\u001b[39m.\u001b[39;49mdpi)\n\u001b[1;32m    325\u001b[0m \u001b[39melse\u001b[39;00m:\n\u001b[1;32m    326\u001b[0m     w \u001b[39m=\u001b[39m h \u001b[39m=\u001b[39m d \u001b[39m=\u001b[39m \u001b[39m0\u001b[39m\n",
      "File \u001b[0;32m/opt/homebrew/lib/python3.10/site-packages/matplotlib/text.py:97\u001b[0m, in \u001b[0;36m_get_text_metrics_with_cache\u001b[0;34m(renderer, text, fontprop, ismath, dpi)\u001b[0m\n\u001b[1;32m     94\u001b[0m \u001b[39m\"\"\"Call ``renderer.get_text_width_height_descent``, caching the results.\"\"\"\u001b[39;00m\n\u001b[1;32m     95\u001b[0m \u001b[39m# Cached based on a copy of fontprop so that later in-place mutations of\u001b[39;00m\n\u001b[1;32m     96\u001b[0m \u001b[39m# the passed-in argument do not mess up the cache.\u001b[39;00m\n\u001b[0;32m---> 97\u001b[0m \u001b[39mreturn\u001b[39;00m _get_text_metrics_with_cache_impl(\n\u001b[1;32m     98\u001b[0m     weakref\u001b[39m.\u001b[39;49mref(renderer), text, fontprop\u001b[39m.\u001b[39;49mcopy(), ismath, dpi)\n",
      "File \u001b[0;32m/opt/homebrew/lib/python3.10/site-packages/matplotlib/text.py:105\u001b[0m, in \u001b[0;36m_get_text_metrics_with_cache_impl\u001b[0;34m(renderer_ref, text, fontprop, ismath, dpi)\u001b[0m\n\u001b[1;32m    101\u001b[0m \u001b[39m@functools\u001b[39m\u001b[39m.\u001b[39mlru_cache(\u001b[39m4096\u001b[39m)\n\u001b[1;32m    102\u001b[0m \u001b[39mdef\u001b[39;00m \u001b[39m_get_text_metrics_with_cache_impl\u001b[39m(\n\u001b[1;32m    103\u001b[0m         renderer_ref, text, fontprop, ismath, dpi):\n\u001b[1;32m    104\u001b[0m     \u001b[39m# dpi is unused, but participates in cache invalidation (via the renderer).\u001b[39;00m\n\u001b[0;32m--> 105\u001b[0m     \u001b[39mreturn\u001b[39;00m renderer_ref()\u001b[39m.\u001b[39;49mget_text_width_height_descent(text, fontprop, ismath)\n",
      "File \u001b[0;32m/opt/homebrew/lib/python3.10/site-packages/matplotlib/backends/backend_agg.py:242\u001b[0m, in \u001b[0;36mRendererAgg.get_text_width_height_descent\u001b[0;34m(self, s, prop, ismath)\u001b[0m\n\u001b[1;32m    239\u001b[0m     \u001b[39mreturn\u001b[39;00m width, height, descent\n\u001b[1;32m    241\u001b[0m font \u001b[39m=\u001b[39m \u001b[39mself\u001b[39m\u001b[39m.\u001b[39m_prepare_font(prop)\n\u001b[0;32m--> 242\u001b[0m font\u001b[39m.\u001b[39;49mset_text(s, \u001b[39m0.0\u001b[39;49m, flags\u001b[39m=\u001b[39;49mget_hinting_flag())\n\u001b[1;32m    243\u001b[0m w, h \u001b[39m=\u001b[39m font\u001b[39m.\u001b[39mget_width_height()  \u001b[39m# width and height of unrotated string\u001b[39;00m\n\u001b[1;32m    244\u001b[0m d \u001b[39m=\u001b[39m font\u001b[39m.\u001b[39mget_descent()\n",
      "\u001b[0;31mKeyboardInterrupt\u001b[0m: "
     ]
    }
   ],
   "source": [
    "plot_tree(dt, x_train_encoded_tree)"
   ]
  },
  {
   "cell_type": "code",
   "execution_count": 18,
   "metadata": {},
   "outputs": [
    {
     "data": {
      "image/png": "[encoded data removed]",
      "text/plain": [
       "<Figure size 1000x600 with 1 Axes>"
      ]
     },
     "metadata": {},
     "output_type": "display_data"
    }
   ],
   "source": [
    "plot_importance(dt, x_train_encoded_tree)"
   ]
  },
  {
   "cell_type": "markdown",
   "metadata": {},
   "source": [
    "Random forest"
   ]
  },
  {
   "cell_type": "code",
   "execution_count": 20,
   "metadata": {},
   "outputs": [
    {
     "name": "stdout",
     "output_type": "stream",
     "text": [
      "R2: 0.6420292958183269\n",
      "MSE: 9676522401.975777\n",
      "RMSE: 98369.31636427986\n",
      "MAE: 71121.3348421442\n"
     ]
    }
   ],
   "source": [
    "rf = RandomForestRegressor(random_state=0, max_depth=5)\n",
    "\n",
    "rf.fit(x_train_encoded_tree, y_train)\n",
    "\n",
    "get_results(rf, x_test_encoded_tree, y_test)"
   ]
  },
  {
   "cell_type": "code",
   "execution_count": 21,
   "metadata": {},
   "outputs": [
    {
     "data": {
      "image/png": "[encoded data removed]",
      "text/plain": [
       "<Figure size 1000x600 with 1 Axes>"
      ]
     },
     "metadata": {},
     "output_type": "display_data"
    }
   ],
   "source": [
    "plot_importance(rf, x_train_encoded_tree)"
   ]
  },
  {
   "cell_type": "markdown",
   "metadata": {},
   "source": [
    "Cross validation"
   ]
  },
  {
   "cell_type": "code",
   "execution_count": 23,
   "metadata": {},
   "outputs": [
    {
     "data": {
      "text/plain": [
       "{'fit_time': array([0.92397094, 0.88565779, 0.88413215, 0.8909421 , 0.88748288,\n",
       "        0.89296317, 0.89700723, 0.88894296, 0.9015739 , 0.91242719]),\n",
       " 'score_time': array([0.0163281 , 0.01644421, 0.01723385, 0.01630092, 0.01483583,\n",
       "        0.01634693, 0.0152359 , 0.01559901, 0.01609111, 0.01615477]),\n",
       " 'test_score': array([0.92254908, 0.91912749, 0.92211026, 0.92143175, 0.92076703,\n",
       "        0.91823379, 0.92503267, 0.92202118, 0.9199043 , 0.91627772]),\n",
       " 'train_score': array([0.99928962, 0.99928594, 0.99930391, 0.99931046, 0.99931121,\n",
       "        0.99930202, 0.99927381, 0.99929397, 0.99929461, 0.9993016 ])}"
      ]
     },
     "execution_count": 23,
     "metadata": {},
     "output_type": "execute_result"
    }
   ],
   "source": [
    "dt_pipe = Pipeline([\n",
    "    (\"feature_preprocessing\", transformer_tree),  # perform the encoding within the pipeline itself\n",
    "    (\"decision_tree\", DecisionTreeRegressor(random_state=0))\n",
    "])\n",
    "\n",
    "cross_validate(dt_pipe, x_train, y_train, cv=10, return_train_score=True)"
   ]
  },
  {
   "cell_type": "code",
   "execution_count": 24,
   "metadata": {},
   "outputs": [
    {
     "name": "stdout",
     "output_type": "stream",
     "text": [
      "Mean Test Score: 0.9207455271109939\n",
      "\n",
      "\n"
     ]
    },
    {
     "data": {
      "text/html": [
       "<div>\n",
       "<style scoped>\n",
       "    .dataframe tbody tr th:only-of-type {\n",
       "        vertical-align: middle;\n",
       "    }\n",
       "\n",
       "    .dataframe tbody tr th {\n",
       "        vertical-align: top;\n",
       "    }\n",
       "\n",
       "    .dataframe thead th {\n",
       "        text-align: right;\n",
       "    }\n",
       "</style>\n",
       "<table border=\"1\" class=\"dataframe\">\n",
       "  <thead>\n",
       "    <tr style=\"text-align: right;\">\n",
       "      <th></th>\n",
       "      <th>fit_time</th>\n",
       "      <th>score_time</th>\n",
       "      <th>test_score</th>\n",
       "      <th>train_score</th>\n",
       "    </tr>\n",
       "  </thead>\n",
       "  <tbody>\n",
       "    <tr>\n",
       "      <th>0</th>\n",
       "      <td>0.910868</td>\n",
       "      <td>0.016288</td>\n",
       "      <td>0.922549</td>\n",
       "      <td>0.999290</td>\n",
       "    </tr>\n",
       "    <tr>\n",
       "      <th>1</th>\n",
       "      <td>0.887729</td>\n",
       "      <td>0.015036</td>\n",
       "      <td>0.919127</td>\n",
       "      <td>0.999286</td>\n",
       "    </tr>\n",
       "    <tr>\n",
       "      <th>2</th>\n",
       "      <td>0.888987</td>\n",
       "      <td>0.015748</td>\n",
       "      <td>0.922110</td>\n",
       "      <td>0.999304</td>\n",
       "    </tr>\n",
       "    <tr>\n",
       "      <th>3</th>\n",
       "      <td>0.897257</td>\n",
       "      <td>0.016166</td>\n",
       "      <td>0.921432</td>\n",
       "      <td>0.999310</td>\n",
       "    </tr>\n",
       "    <tr>\n",
       "      <th>4</th>\n",
       "      <td>0.923934</td>\n",
       "      <td>0.016111</td>\n",
       "      <td>0.920767</td>\n",
       "      <td>0.999311</td>\n",
       "    </tr>\n",
       "    <tr>\n",
       "      <th>5</th>\n",
       "      <td>0.889202</td>\n",
       "      <td>0.018485</td>\n",
       "      <td>0.918234</td>\n",
       "      <td>0.999302</td>\n",
       "    </tr>\n",
       "    <tr>\n",
       "      <th>6</th>\n",
       "      <td>0.900065</td>\n",
       "      <td>0.017388</td>\n",
       "      <td>0.925033</td>\n",
       "      <td>0.999274</td>\n",
       "    </tr>\n",
       "    <tr>\n",
       "      <th>7</th>\n",
       "      <td>0.893101</td>\n",
       "      <td>0.016273</td>\n",
       "      <td>0.922021</td>\n",
       "      <td>0.999294</td>\n",
       "    </tr>\n",
       "    <tr>\n",
       "      <th>8</th>\n",
       "      <td>0.906607</td>\n",
       "      <td>0.016208</td>\n",
       "      <td>0.919904</td>\n",
       "      <td>0.999295</td>\n",
       "    </tr>\n",
       "    <tr>\n",
       "      <th>9</th>\n",
       "      <td>0.880534</td>\n",
       "      <td>0.016075</td>\n",
       "      <td>0.916278</td>\n",
       "      <td>0.999302</td>\n",
       "    </tr>\n",
       "  </tbody>\n",
       "</table>\n",
       "</div>"
      ],
      "text/plain": [
       "   fit_time  score_time  test_score  train_score\n",
       "0  0.910868    0.016288    0.922549     0.999290\n",
       "1  0.887729    0.015036    0.919127     0.999286\n",
       "2  0.888987    0.015748    0.922110     0.999304\n",
       "3  0.897257    0.016166    0.921432     0.999310\n",
       "4  0.923934    0.016111    0.920767     0.999311\n",
       "5  0.889202    0.018485    0.918234     0.999302\n",
       "6  0.900065    0.017388    0.925033     0.999274\n",
       "7  0.893101    0.016273    0.922021     0.999294\n",
       "8  0.906607    0.016208    0.919904     0.999295\n",
       "9  0.880534    0.016075    0.916278     0.999302"
      ]
     },
     "metadata": {},
     "output_type": "display_data"
    }
   ],
   "source": [
    "def get_CV_results(model, X, y, cv=10):\n",
    "    scores = cross_validate(model, X, y, cv=cv, return_train_score=True)\n",
    "    print(f\"Mean Test Score: {scores['test_score'].mean()}\")\n",
    "    print(\"\\n\")\n",
    "\n",
    "    display(pd.DataFrame(scores)) \n",
    "\n",
    "get_CV_results(dt_pipe, x_train, y_train)"
   ]
  },
  {
   "cell_type": "markdown",
   "metadata": {},
   "source": [
    "Hyperparameter"
   ]
  },
  {
   "cell_type": "code",
   "execution_count": 25,
   "metadata": {},
   "outputs": [
    {
     "data": {
      "text/html": [
       "<style>#sk-container-id-2 {color: black;background-color: white;}#sk-container-id-2 pre{padding: 0;}#sk-container-id-2 div.sk-toggleable {background-color: white;}#sk-container-id-2 label.sk-toggleable__label {cursor: pointer;display: block;width: 100%;margin-bottom: 0;padding: 0.3em;box-sizing: border-box;text-align: center;}#sk-container-id-2 label.sk-toggleable__label-arrow:before {content: \"▸\";float: left;margin-right: 0.25em;color: #696969;}#sk-container-id-2 label.sk-toggleable__label-arrow:hover:before {color: black;}#sk-container-id-2 div.sk-estimator:hover label.sk-toggleable__label-arrow:before {color: black;}#sk-container-id-2 div.sk-toggleable__content {max-height: 0;max-width: 0;overflow: hidden;text-align: left;background-color: #f0f8ff;}#sk-container-id-2 div.sk-toggleable__content pre {margin: 0.2em;color: black;border-radius: 0.25em;background-color: #f0f8ff;}#sk-container-id-2 input.sk-toggleable__control:checked~div.sk-toggleable__content {max-height: 200px;max-width: 100%;overflow: auto;}#sk-container-id-2 input.sk-toggleable__control:checked~label.sk-toggleable__label-arrow:before {content: \"▾\";}#sk-container-id-2 div.sk-estimator input.sk-toggleable__control:checked~label.sk-toggleable__label {background-color: #d4ebff;}#sk-container-id-2 div.sk-label input.sk-toggleable__control:checked~label.sk-toggleable__label {background-color: #d4ebff;}#sk-container-id-2 input.sk-hidden--visually {border: 0;clip: rect(1px 1px 1px 1px);clip: rect(1px, 1px, 1px, 1px);height: 1px;margin: -1px;overflow: hidden;padding: 0;position: absolute;width: 1px;}#sk-container-id-2 div.sk-estimator {font-family: monospace;background-color: #f0f8ff;border: 1px dotted black;border-radius: 0.25em;box-sizing: border-box;margin-bottom: 0.5em;}#sk-container-id-2 div.sk-estimator:hover {background-color: #d4ebff;}#sk-container-id-2 div.sk-parallel-item::after {content: \"\";width: 100%;border-bottom: 1px solid gray;flex-grow: 1;}#sk-container-id-2 div.sk-label:hover label.sk-toggleable__label {background-color: #d4ebff;}#sk-container-id-2 div.sk-serial::before {content: \"\";position: absolute;border-left: 1px solid gray;box-sizing: border-box;top: 0;bottom: 0;left: 50%;z-index: 0;}#sk-container-id-2 div.sk-serial {display: flex;flex-direction: column;align-items: center;background-color: white;padding-right: 0.2em;padding-left: 0.2em;position: relative;}#sk-container-id-2 div.sk-item {position: relative;z-index: 1;}#sk-container-id-2 div.sk-parallel {display: flex;align-items: stretch;justify-content: center;background-color: white;position: relative;}#sk-container-id-2 div.sk-item::before, #sk-container-id-2 div.sk-parallel-item::before {content: \"\";position: absolute;border-left: 1px solid gray;box-sizing: border-box;top: 0;bottom: 0;left: 50%;z-index: -1;}#sk-container-id-2 div.sk-parallel-item {display: flex;flex-direction: column;z-index: 1;position: relative;background-color: white;}#sk-container-id-2 div.sk-parallel-item:first-child::after {align-self: flex-end;width: 50%;}#sk-container-id-2 div.sk-parallel-item:last-child::after {align-self: flex-start;width: 50%;}#sk-container-id-2 div.sk-parallel-item:only-child::after {width: 0;}#sk-container-id-2 div.sk-dashed-wrapped {border: 1px dashed gray;margin: 0 0.4em 0.5em 0.4em;box-sizing: border-box;padding-bottom: 0.4em;background-color: white;}#sk-container-id-2 div.sk-label label {font-family: monospace;font-weight: bold;display: inline-block;line-height: 1.2em;}#sk-container-id-2 div.sk-label-container {text-align: center;}#sk-container-id-2 div.sk-container {/* jupyter's `normalize.less` sets `[hidden] { display: none; }` but bootstrap.min.css set `[hidden] { display: none !important; }` so we also need the `!important` here to be able to override the default hidden behavior on the sphinx rendered scikit-learn.org. See: https://github.com/scikit-learn/scikit-learn/issues/21755 */display: inline-block !important;position: relative;}#sk-container-id-2 div.sk-text-repr-fallback {display: none;}</style><div id=\"sk-container-id-2\" class=\"sk-top-container\"><div class=\"sk-text-repr-fallback\"><pre>GridSearchCV(cv=10,\n",
       "             estimator=Pipeline(steps=[(&#x27;feature_preprocessing&#x27;,\n",
       "                                        ColumnTransformer(remainder=&#x27;passthrough&#x27;,\n",
       "                                                          transformers=[(&#x27;categorical&#x27;,\n",
       "                                                                         OneHotEncoder(handle_unknown=&#x27;ignore&#x27;,\n",
       "                                                                                       sparse=False),\n",
       "                                                                         [&#x27;town&#x27;,\n",
       "                                                                          &#x27;flat_type&#x27;,\n",
       "                                                                          &#x27;storey_range&#x27;,\n",
       "                                                                          &#x27;flat_model&#x27;,\n",
       "                                                                          &#x27;year&#x27;,\n",
       "                                                                          &#x27;month&#x27;])])),\n",
       "                                       (&#x27;decision_tree&#x27;,\n",
       "                                        DecisionTreeRegressor(random_state=0))]),\n",
       "             param_grid={&#x27;decision_tree__max_depth&#x27;: [None, 3, 4, 5, 6],\n",
       "                         &#x27;decision_tree__min_samples_leaf&#x27;: array([ 2,  3,  4,  5,  6,  7,  8,  9, 10])},\n",
       "             return_train_score=True)</pre><b>In a Jupyter environment, please rerun this cell to show the HTML representation or trust the notebook. <br />On GitHub, the HTML representation is unable to render, please try loading this page with nbviewer.org.</b></div><div class=\"sk-container\" hidden><div class=\"sk-item sk-dashed-wrapped\"><div class=\"sk-label-container\"><div class=\"sk-label sk-toggleable\"><input class=\"sk-toggleable__control sk-hidden--visually\" id=\"sk-estimator-id-2\" type=\"checkbox\" ><label for=\"sk-estimator-id-2\" class=\"sk-toggleable__label sk-toggleable__label-arrow\">GridSearchCV</label><div class=\"sk-toggleable__content\"><pre>GridSearchCV(cv=10,\n",
       "             estimator=Pipeline(steps=[(&#x27;feature_preprocessing&#x27;,\n",
       "                                        ColumnTransformer(remainder=&#x27;passthrough&#x27;,\n",
       "                                                          transformers=[(&#x27;categorical&#x27;,\n",
       "                                                                         OneHotEncoder(handle_unknown=&#x27;ignore&#x27;,\n",
       "                                                                                       sparse=False),\n",
       "                                                                         [&#x27;town&#x27;,\n",
       "                                                                          &#x27;flat_type&#x27;,\n",
       "                                                                          &#x27;storey_range&#x27;,\n",
       "                                                                          &#x27;flat_model&#x27;,\n",
       "                                                                          &#x27;year&#x27;,\n",
       "                                                                          &#x27;month&#x27;])])),\n",
       "                                       (&#x27;decision_tree&#x27;,\n",
       "                                        DecisionTreeRegressor(random_state=0))]),\n",
       "             param_grid={&#x27;decision_tree__max_depth&#x27;: [None, 3, 4, 5, 6],\n",
       "                         &#x27;decision_tree__min_samples_leaf&#x27;: array([ 2,  3,  4,  5,  6,  7,  8,  9, 10])},\n",
       "             return_train_score=True)</pre></div></div></div><div class=\"sk-parallel\"><div class=\"sk-parallel-item\"><div class=\"sk-item\"><div class=\"sk-label-container\"><div class=\"sk-label sk-toggleable\"><input class=\"sk-toggleable__control sk-hidden--visually\" id=\"sk-estimator-id-3\" type=\"checkbox\" ><label for=\"sk-estimator-id-3\" class=\"sk-toggleable__label sk-toggleable__label-arrow\">estimator: Pipeline</label><div class=\"sk-toggleable__content\"><pre>Pipeline(steps=[(&#x27;feature_preprocessing&#x27;,\n",
       "                 ColumnTransformer(remainder=&#x27;passthrough&#x27;,\n",
       "                                   transformers=[(&#x27;categorical&#x27;,\n",
       "                                                  OneHotEncoder(handle_unknown=&#x27;ignore&#x27;,\n",
       "                                                                sparse=False),\n",
       "                                                  [&#x27;town&#x27;, &#x27;flat_type&#x27;,\n",
       "                                                   &#x27;storey_range&#x27;, &#x27;flat_model&#x27;,\n",
       "                                                   &#x27;year&#x27;, &#x27;month&#x27;])])),\n",
       "                (&#x27;decision_tree&#x27;, DecisionTreeRegressor(random_state=0))])</pre></div></div></div><div class=\"sk-serial\"><div class=\"sk-item\"><div class=\"sk-serial\"><div class=\"sk-item sk-dashed-wrapped\"><div class=\"sk-label-container\"><div class=\"sk-label sk-toggleable\"><input class=\"sk-toggleable__control sk-hidden--visually\" id=\"sk-estimator-id-4\" type=\"checkbox\" ><label for=\"sk-estimator-id-4\" class=\"sk-toggleable__label sk-toggleable__label-arrow\">feature_preprocessing: ColumnTransformer</label><div class=\"sk-toggleable__content\"><pre>ColumnTransformer(remainder=&#x27;passthrough&#x27;,\n",
       "                  transformers=[(&#x27;categorical&#x27;,\n",
       "                                 OneHotEncoder(handle_unknown=&#x27;ignore&#x27;,\n",
       "                                               sparse=False),\n",
       "                                 [&#x27;town&#x27;, &#x27;flat_type&#x27;, &#x27;storey_range&#x27;,\n",
       "                                  &#x27;flat_model&#x27;, &#x27;year&#x27;, &#x27;month&#x27;])])</pre></div></div></div><div class=\"sk-parallel\"><div class=\"sk-parallel-item\"><div class=\"sk-item\"><div class=\"sk-label-container\"><div class=\"sk-label sk-toggleable\"><input class=\"sk-toggleable__control sk-hidden--visually\" id=\"sk-estimator-id-5\" type=\"checkbox\" ><label for=\"sk-estimator-id-5\" class=\"sk-toggleable__label sk-toggleable__label-arrow\">categorical</label><div class=\"sk-toggleable__content\"><pre>[&#x27;town&#x27;, &#x27;flat_type&#x27;, &#x27;storey_range&#x27;, &#x27;flat_model&#x27;, &#x27;year&#x27;, &#x27;month&#x27;]</pre></div></div></div><div class=\"sk-serial\"><div class=\"sk-item\"><div class=\"sk-estimator sk-toggleable\"><input class=\"sk-toggleable__control sk-hidden--visually\" id=\"sk-estimator-id-6\" type=\"checkbox\" ><label for=\"sk-estimator-id-6\" class=\"sk-toggleable__label sk-toggleable__label-arrow\">OneHotEncoder</label><div class=\"sk-toggleable__content\"><pre>OneHotEncoder(handle_unknown=&#x27;ignore&#x27;, sparse=False)</pre></div></div></div></div></div></div><div class=\"sk-parallel-item\"><div class=\"sk-item\"><div class=\"sk-label-container\"><div class=\"sk-label sk-toggleable\"><input class=\"sk-toggleable__control sk-hidden--visually\" id=\"sk-estimator-id-7\" type=\"checkbox\" ><label for=\"sk-estimator-id-7\" class=\"sk-toggleable__label sk-toggleable__label-arrow\">remainder</label><div class=\"sk-toggleable__content\"><pre>[&#x27;floor_area_sqm&#x27;, &#x27;lease_commence_date&#x27;, &#x27;remaining_lease_clean&#x27;]</pre></div></div></div><div class=\"sk-serial\"><div class=\"sk-item\"><div class=\"sk-estimator sk-toggleable\"><input class=\"sk-toggleable__control sk-hidden--visually\" id=\"sk-estimator-id-8\" type=\"checkbox\" ><label for=\"sk-estimator-id-8\" class=\"sk-toggleable__label sk-toggleable__label-arrow\">passthrough</label><div class=\"sk-toggleable__content\"><pre>passthrough</pre></div></div></div></div></div></div></div></div><div class=\"sk-item\"><div class=\"sk-estimator sk-toggleable\"><input class=\"sk-toggleable__control sk-hidden--visually\" id=\"sk-estimator-id-9\" type=\"checkbox\" ><label for=\"sk-estimator-id-9\" class=\"sk-toggleable__label sk-toggleable__label-arrow\">DecisionTreeRegressor</label><div class=\"sk-toggleable__content\"><pre>DecisionTreeRegressor(random_state=0)</pre></div></div></div></div></div></div></div></div></div></div></div></div>"
      ],
      "text/plain": [
       "GridSearchCV(cv=10,\n",
       "             estimator=Pipeline(steps=[('feature_preprocessing',\n",
       "                                        ColumnTransformer(remainder='passthrough',\n",
       "                                                          transformers=[('categorical',\n",
       "                                                                         OneHotEncoder(handle_unknown='ignore',\n",
       "                                                                                       sparse=False),\n",
       "                                                                         ['town',\n",
       "                                                                          'flat_type',\n",
       "                                                                          'storey_range',\n",
       "                                                                          'flat_model',\n",
       "                                                                          'year',\n",
       "                                                                          'month'])])),\n",
       "                                       ('decision_tree',\n",
       "                                        DecisionTreeRegressor(random_state=0))]),\n",
       "             param_grid={'decision_tree__max_depth': [None, 3, 4, 5, 6],\n",
       "                         'decision_tree__min_samples_leaf': array([ 2,  3,  4,  5,  6,  7,  8,  9, 10])},\n",
       "             return_train_score=True)"
      ]
     },
     "execution_count": 25,
     "metadata": {},
     "output_type": "execute_result"
    }
   ],
   "source": [
    "# create pipeline\n",
    "dt_pipe = Pipeline([\n",
    "      (\"feature_preprocessing\", transformer_tree),  # perform the encoding within the pipeline itself\n",
    "      (\"decision_tree\", DecisionTreeRegressor(random_state=0))\n",
    "    ])\n",
    "\n",
    "# state params to test (grid)\n",
    "params = {\"decision_tree__max_depth\": [None, 3, 4, 5, 6], \n",
    "          \"decision_tree__min_samples_leaf\": np.arange(2, 11, 1)}\n",
    "\n",
    "# create GridSearchCV object\n",
    "dt_gs = GridSearchCV(estimator = dt_pipe, \n",
    "                    param_grid = params, cv = 10,\n",
    "                    return_train_score = True)\n",
    "\n",
    "# fit GridSearchCV object onto training data\n",
    "dt_gs.fit(x_train, y_train)"
   ]
  },
  {
   "cell_type": "code",
   "execution_count": 27,
   "metadata": {},
   "outputs": [
    {
     "name": "stdout",
     "output_type": "stream",
     "text": [
      "Best combination of hyperparams:\n",
      " {'decision_tree__max_depth': None, 'decision_tree__min_samples_leaf': 5} \n",
      "\n",
      "Best mean_test_score score:\n",
      " 0.9355956555641731 \n",
      "\n",
      "Score by fold for best estimator:\n",
      " [0.9392229709166586, 0.9340445792753076, 0.9349679952864998, 0.9368585333853576, 0.937354967102652, 0.9346759139818652, 0.9359266962107584, 0.9372965858172336, 0.9351199305084253, 0.9304883831569715] \n",
      "\n",
      "Top 5 hyperparams combinations by mean_test_score:\n"
     ]
    },
    {
     "data": {
      "text/html": [
       "<div>\n",
       "<style scoped>\n",
       "    .dataframe tbody tr th:only-of-type {\n",
       "        vertical-align: middle;\n",
       "    }\n",
       "\n",
       "    .dataframe tbody tr th {\n",
       "        vertical-align: top;\n",
       "    }\n",
       "\n",
       "    .dataframe thead th {\n",
       "        text-align: right;\n",
       "    }\n",
       "</style>\n",
       "<table border=\"1\" class=\"dataframe\">\n",
       "  <thead>\n",
       "    <tr style=\"text-align: right;\">\n",
       "      <th></th>\n",
       "      <th>mean_test_score</th>\n",
       "      <th>param_decision_tree__max_depth</th>\n",
       "      <th>param_decision_tree__min_samples_leaf</th>\n",
       "    </tr>\n",
       "    <tr>\n",
       "      <th>rank_test_score</th>\n",
       "      <th></th>\n",
       "      <th></th>\n",
       "      <th></th>\n",
       "    </tr>\n",
       "  </thead>\n",
       "  <tbody>\n",
       "    <tr>\n",
       "      <th>1</th>\n",
       "      <td>0.935596</td>\n",
       "      <td>None</td>\n",
       "      <td>5</td>\n",
       "    </tr>\n",
       "    <tr>\n",
       "      <th>2</th>\n",
       "      <td>0.935591</td>\n",
       "      <td>None</td>\n",
       "      <td>4</td>\n",
       "    </tr>\n",
       "    <tr>\n",
       "      <th>3</th>\n",
       "      <td>0.935580</td>\n",
       "      <td>None</td>\n",
       "      <td>6</td>\n",
       "    </tr>\n",
       "    <tr>\n",
       "      <th>4</th>\n",
       "      <td>0.935277</td>\n",
       "      <td>None</td>\n",
       "      <td>7</td>\n",
       "    </tr>\n",
       "    <tr>\n",
       "      <th>5</th>\n",
       "      <td>0.934899</td>\n",
       "      <td>None</td>\n",
       "      <td>8</td>\n",
       "    </tr>\n",
       "  </tbody>\n",
       "</table>\n",
       "</div>"
      ],
      "text/plain": [
       "                 mean_test_score param_decision_tree__max_depth  \\\n",
       "rank_test_score                                                   \n",
       "1                       0.935596                           None   \n",
       "2                       0.935591                           None   \n",
       "3                       0.935580                           None   \n",
       "4                       0.935277                           None   \n",
       "5                       0.934899                           None   \n",
       "\n",
       "                param_decision_tree__min_samples_leaf  \n",
       "rank_test_score                                        \n",
       "1                                                   5  \n",
       "2                                                   4  \n",
       "3                                                   6  \n",
       "4                                                   7  \n",
       "5                                                   8  "
      ]
     },
     "metadata": {},
     "output_type": "display_data"
    },
    {
     "name": "stdout",
     "output_type": "stream",
     "text": [
      "R2: 0.9359340535315539\n",
      "MSE: 1731805309.6632097\n",
      "RMSE: 41614.964972509704\n",
      "MAE: 28336.729091393954\n"
     ]
    }
   ],
   "source": [
    "def report_GridSearchCV_results(grid):\n",
    "    print(\"Best combination of hyperparams:\\n\", grid.best_params_, \"\\n\")\n",
    "    print(\"Best mean_test_score score:\\n\", grid.best_score_, \"\\n\")\n",
    "    \n",
    "    scores = []\n",
    "    for i in range(grid.n_splits_):\n",
    "        scores.append(grid.cv_results_['split{}_test_score'.format(i)][grid.best_index_])\n",
    "    print(\"Score by fold for best estimator:\\n\", scores, \"\\n\")\n",
    "    \n",
    "    # View top 5 hyperparams combinations by mean_test_score (mean on \"validation\" set)\n",
    "    print(\"Top 5 hyperparams combinations by mean_test_score:\")\n",
    "    display(pd.DataFrame(grid.cv_results_)[[\"rank_test_score\", \"mean_test_score\"] \n",
    "                                            + [\"param_\" + param for param in grid.param_grid]]\\\n",
    "              .sort_values(by = \"mean_test_score\", ascending = False)\\\n",
    "              .set_index(\"rank_test_score\").head(5))\n",
    "\n",
    "report_GridSearchCV_results(dt_gs)\n",
    "\n",
    "get_results(dt_gs, x_test, y_test)"
   ]
  }
 ],
 "metadata": {
  "kernelspec": {
   "display_name": "Python 3.10.6 64-bit",
   "language": "python",
   "name": "python3"
  },
  "language_info": {
   "codemirror_mode": {
    "name": "ipython",
    "version": 3
   },
   "file_extension": ".py",
   "mimetype": "text/x-python",
   "name": "python",
   "nbconvert_exporter": "python",
   "pygments_lexer": "ipython3",
   "version": "3.10.6"
  },
  "orig_nbformat": 4,
  "vscode": {
   "interpreter": {
    "hash": "b0fa6594d8f4cbf19f97940f81e996739fb7646882a419484c72d19e05852a7e"
   }
  }
 },
 "nbformat": 4,
 "nbformat_minor": 2
}
